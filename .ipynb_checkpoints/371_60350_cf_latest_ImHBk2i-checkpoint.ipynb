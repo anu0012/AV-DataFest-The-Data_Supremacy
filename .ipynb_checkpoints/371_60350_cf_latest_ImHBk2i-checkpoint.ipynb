{
 "cells": [
  {
   "cell_type": "code",
   "execution_count": 1,
   "metadata": {
    "collapsed": true
   },
   "outputs": [],
   "source": [
    "import pandas as pd\n",
    "import numpy as np\n",
    "import warnings\n",
    "warnings.filterwarnings(\"ignore\",category=DeprecationWarning)"
   ]
  },
  {
   "cell_type": "code",
   "execution_count": 2,
   "metadata": {
    "collapsed": true
   },
   "outputs": [],
   "source": [
    "train = pd.read_csv(\"newtrain.csv\")\n",
    "test = pd.read_csv(\"test_final.csv\")"
   ]
  },
  {
   "cell_type": "code",
   "execution_count": 3,
   "metadata": {
    "collapsed": true
   },
   "outputs": [],
   "source": [
    "# Imputing missing value in age variable with median and in trainee_engagement_rating variable with mode of that variable.\n",
    "#train['age'].fillna(train['age'].median(), inplace=True)\n",
    "train['trainee_engagement_rating'].fillna(train['trainee_engagement_rating'].mode()[0], inplace=True)\n",
    "#test['age'].fillna(train['age'].median(), inplace=True)\n",
    "test['trainee_engagement_rating'].fillna(train['trainee_engagement_rating'].mode()[0], inplace=True)"
   ]
  },
  {
   "cell_type": "code",
   "execution_count": 4,
   "metadata": {
    "collapsed": true
   },
   "outputs": [],
   "source": [
    "dummy_fields = ['difficulty_level','education',\"city_tier\",\"gender\",\"is_handicapped\",\"test_type\", \"program_id\"] "
   ]
  },
  {
   "cell_type": "code",
   "execution_count": 5,
   "metadata": {
    "collapsed": true
   },
   "outputs": [],
   "source": [
    "for item in dummy_fields:\n",
    "    dummies = pd.get_dummies(train.loc[:, item], prefix=item) \n",
    "    train = pd.concat([train, dummies], axis = 1)\n",
    "    train = train.drop(item, axis =1)\n",
    "    dummies = pd.get_dummies(test.loc[:, item], prefix=item) \n",
    "    test = pd.concat([test, dummies], axis = 1)\n",
    "    test = test.drop(item, axis =1)"
   ]
  },
  {
   "cell_type": "code",
   "execution_count": 6,
   "metadata": {
    "collapsed": true
   },
   "outputs": [],
   "source": [
    "train.drop('program_type', inplace=True, axis=1)\n",
    "test.drop('program_type', inplace=True, axis=1)"
   ]
  },
  {
   "cell_type": "code",
   "execution_count": 7,
   "metadata": {
    "collapsed": true
   },
   "outputs": [],
   "source": [
    "from sklearn.model_selection import train_test_split"
   ]
  },
  {
   "cell_type": "code",
   "execution_count": 8,
   "metadata": {
    "collapsed": true
   },
   "outputs": [],
   "source": [
    "y = train.is_pass.values\n",
    "train.drop(['id', 'is_pass'], inplace=True, axis=1)\n",
    "#x, x_test, y, y_test = train_test_split(train, y, test_size=0.015, random_state=42, stratify=y)\n",
    "x = train"
   ]
  },
  {
   "cell_type": "code",
   "execution_count": 9,
   "metadata": {
    "collapsed": true
   },
   "outputs": [],
   "source": [
    "from imblearn.over_sampling import SMOTE\n",
    "ros = SMOTE(random_state=0)\n",
    "X_resampled, y_resampled = ros.fit_sample(x, y)"
   ]
  },
  {
   "cell_type": "code",
   "execution_count": 10,
   "metadata": {},
   "outputs": [],
   "source": [
    "import xgboost as xgb\n",
    "data = np.array(X_resampled)  # 5 entities, each contains 10 features\n",
    "label = np.array(y_resampled)  # binary target\n",
    "dtrain = xgb.DMatrix(data, label=label)"
   ]
  },
  {
   "cell_type": "code",
   "execution_count": 11,
   "metadata": {},
   "outputs": [
    {
     "ename": "NameError",
     "evalue": "name 'x_test' is not defined",
     "output_type": "error",
     "traceback": [
      "\u001b[0;31m---------------------------------------------------------------------------\u001b[0m",
      "\u001b[0;31mNameError\u001b[0m                                 Traceback (most recent call last)",
      "\u001b[0;32m<ipython-input-11-7b51ab905bf1>\u001b[0m in \u001b[0;36m<module>\u001b[0;34m()\u001b[0m\n\u001b[0;32m----> 1\u001b[0;31m \u001b[0mdata\u001b[0m \u001b[0;34m=\u001b[0m \u001b[0mnp\u001b[0m\u001b[0;34m.\u001b[0m\u001b[0marray\u001b[0m\u001b[0;34m(\u001b[0m\u001b[0mx_test\u001b[0m\u001b[0;34m)\u001b[0m  \u001b[0;31m# 5 entities, each contains 10 features\u001b[0m\u001b[0;34m\u001b[0m\u001b[0m\n\u001b[0m\u001b[1;32m      2\u001b[0m \u001b[0mlabel\u001b[0m \u001b[0;34m=\u001b[0m \u001b[0mnp\u001b[0m\u001b[0;34m.\u001b[0m\u001b[0marray\u001b[0m\u001b[0;34m(\u001b[0m\u001b[0my_test\u001b[0m\u001b[0;34m)\u001b[0m  \u001b[0;31m# binary target\u001b[0m\u001b[0;34m\u001b[0m\u001b[0m\n\u001b[1;32m      3\u001b[0m \u001b[0mdtest\u001b[0m \u001b[0;34m=\u001b[0m \u001b[0mxgb\u001b[0m\u001b[0;34m.\u001b[0m\u001b[0mDMatrix\u001b[0m\u001b[0;34m(\u001b[0m\u001b[0mdata\u001b[0m\u001b[0;34m,\u001b[0m \u001b[0mlabel\u001b[0m\u001b[0;34m=\u001b[0m\u001b[0mlabel\u001b[0m\u001b[0;34m)\u001b[0m\u001b[0;34m\u001b[0m\u001b[0m\n",
      "\u001b[0;31mNameError\u001b[0m: name 'x_test' is not defined"
     ]
    }
   ],
   "source": [
    "#data = np.array(x_test)  # 5 entities, each contains 10 features\n",
    "#label = np.array(y_test)  # binary target\n",
    "#dtest = xgb.DMatrix(data, label=label)"
   ]
  },
  {
   "cell_type": "code",
   "execution_count": 12,
   "metadata": {
    "collapsed": true
   },
   "outputs": [],
   "source": [
    "parameters = {\n",
    "    'objective': 'binary:logistic',\n",
    "    'silent': 0,\n",
    "    'eval_metric': 'auc'\n",
    "}\n",
    "\n",
    "#evallist = [(dtest, 'eval'), (dtrain, 'train')]\n"
   ]
  },
  {
   "cell_type": "code",
   "execution_count": 13,
   "metadata": {
    "collapsed": true
   },
   "outputs": [],
   "source": [
    "num_round = 2500\n",
    "bst = xgb.train(param, dtrain, num_round)"
   ]
  },
  {
   "cell_type": "code",
   "execution_count": 14,
   "metadata": {
    "collapsed": true
   },
   "outputs": [],
   "source": [
    "test = test.drop('id',axis=1)"
   ]
  },
  {
   "cell_type": "code",
   "execution_count": 15,
   "metadata": {
    "collapsed": true
   },
   "outputs": [],
   "source": [
    "dtest = xgb.DMatrix(test.values)\n",
    "pred = bst.predict(dtest)\n",
    "d = pd.DataFrame(pred)\n",
    "d.columns = ['is_pass']\n",
    "d.to_csv('xgb_submissions.csv')"
   ]
  },
  {
   "cell_type": "code",
   "execution_count": 16,
   "metadata": {
    "collapsed": true
   },
   "outputs": [],
   "source": [
    "import lightgbm\n",
    "gbm_train_data = lightgbm.Dataset(X_resampled, label=y_resampled)\n",
    "#gbm_test_data = lightgbm.Dataset(x_test, label=y_test)\n",
    "parameters = {\n",
    "    'application': 'binary',\n",
    "    'objective': 'binary',\n",
    "    'metric': 'auc',\n",
    "    'is_unbalance': 'true',\n",
    "    'boosting': 'gbdt',\n",
    "    'verbose': 0\n",
    "}\n",
    "\n",
    "gbm_model = lightgbm.train(parameters,\n",
    "                       gbm_train_data,\n",
    "                       num_boost_round=2000)"
   ]
  },
  {
   "cell_type": "code",
   "execution_count": 17,
   "metadata": {
    "collapsed": true
   },
   "outputs": [],
   "source": [
    "gbm_pred = gbm_model.predict(test)\n",
    "output = pd.DataFrame({'is_pass': gbm_pred})\n",
    "output.to_csv(\"lgbm_submissions.csv\", index=False)"
   ]
  },
  {
   "cell_type": "code",
   "execution_count": 18,
   "metadata": {
    "collapsed": true
   },
   "outputs": [],
   "source": [
    "xg_pred = bst.predict(dtest)\n",
    "gbm_pred = gbm_model.predict(test)\n",
    "\n",
    "pred = (0.65 * xg_pred) + (0.35 * gbm_pred)"
   ]
  },
  {
   "cell_type": "code",
   "execution_count": 19,
   "metadata": {
    "collapsed": true
   },
   "outputs": [],
   "source": [
    "output = pd.DataFrame({'is_pass': pred})\n",
    "output.to_csv(\"age_imputed_data.csv\", index=False)"
   ]
  },
  {
   "cell_type": "code",
   "execution_count": null,
   "metadata": {
    "collapsed": true
   },
   "outputs": [],
   "source": []
  }
 ],
 "metadata": {
  "kernelspec": {
   "display_name": "Python 3",
   "language": "python",
   "name": "python3"
  },
  "language_info": {
   "codemirror_mode": {
    "name": "ipython",
    "version": 3
   },
   "file_extension": ".py",
   "mimetype": "text/x-python",
   "name": "python",
   "nbconvert_exporter": "python",
   "pygments_lexer": "ipython3",
   "version": "3.6.5"
  }
 },
 "nbformat": 4,
 "nbformat_minor": 2
}
